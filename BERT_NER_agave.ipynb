{
 "cells": [
  {
   "cell_type": "code",
   "execution_count": 1,
   "metadata": {
    "colab": {},
    "colab_type": "code",
    "id": "_JyRck8UnFjj"
   },
   "outputs": [
    {
     "name": "stderr",
     "output_type": "stream",
     "text": [
      "I0505 14:51:02.404704 47821962567360 file_utils.py:41] PyTorch version 1.2.0 available.\n",
      "I0505 14:51:08.570101 47821962567360 file_utils.py:57] TensorFlow version 2.1.0 available.\n"
     ]
    }
   ],
   "source": [
    "import os\n",
    "import json\n",
    "import pandas as pd\n",
    "import numpy as np\n",
    "from transformers import BertModel,BertTokenizer\n",
    "from tensorflow.keras.preprocessing.sequence import pad_sequences\n",
    "from torch.utils.data import TensorDataset, DataLoader, RandomSampler, SequentialSampler\n",
    "import torch\n",
    "from tqdm import tqdm, trange\n",
    "import copy"
   ]
  },
  {
   "cell_type": "code",
   "execution_count": 2,
   "metadata": {
    "colab": {
     "base_uri": "https://localhost:8080/",
     "height": 306
    },
    "colab_type": "code",
    "executionInfo": {
     "elapsed": 2733,
     "status": "ok",
     "timestamp": 1585290652633,
     "user": {
      "displayName": "Jae Choi",
      "photoUrl": "",
      "userId": "12753612472423284421"
     },
     "user_tz": 420
    },
    "id": "CoaXi2Xem14t",
    "outputId": "1ec1615f-9503-4889-98ca-b8f2fc3fbbd2"
   },
   "outputs": [
    {
     "name": "stdout",
     "output_type": "stream",
     "text": [
      "Tue May  5 14:51:11 2020       \n",
      "+-----------------------------------------------------------------------------+\n",
      "| NVIDIA-SMI 440.33.01    Driver Version: 440.33.01    CUDA Version: 10.2     |\n",
      "|-------------------------------+----------------------+----------------------+\n",
      "| GPU  Name        Persistence-M| Bus-Id        Disp.A | Volatile Uncorr. ECC |\n",
      "| Fan  Temp  Perf  Pwr:Usage/Cap|         Memory-Usage | GPU-Util  Compute M. |\n",
      "|===============================+======================+======================|\n",
      "|   0  Tesla V100-SXM2...  Off  | 00000000:AF:00.0 Off |                    0 |\n",
      "| N/A   36C    P0    56W / 300W |      0MiB / 32510MiB |      0%      Default |\n",
      "+-------------------------------+----------------------+----------------------+\n",
      "                                                                               \n",
      "+-----------------------------------------------------------------------------+\n",
      "| Processes:                                                       GPU Memory |\n",
      "|  GPU       PID   Type   Process name                             Usage      |\n",
      "|=============================================================================|\n",
      "|  No running processes found                                                 |\n",
      "+-----------------------------------------------------------------------------+\n"
     ]
    }
   ],
   "source": [
    "!nvidia-smi"
   ]
  },
  {
   "cell_type": "code",
   "execution_count": 3,
   "metadata": {
    "colab": {},
    "colab_type": "code",
    "id": "QsugR204m14y"
   },
   "outputs": [],
   "source": [
    "from create_processed_data import *"
   ]
  },
  {
   "cell_type": "code",
   "execution_count": 4,
   "metadata": {
    "colab": {
     "base_uri": "https://localhost:8080/",
     "height": 34
    },
    "colab_type": "code",
    "executionInfo": {
     "elapsed": 1104,
     "status": "ok",
     "timestamp": 1585290675600,
     "user": {
      "displayName": "Jae Choi",
      "photoUrl": "",
      "userId": "12753612472423284421"
     },
     "user_tz": 420
    },
    "id": "l3OInENUm15K",
    "outputId": "f5b66e0e-3a06-4350-e281-6ac653f4a53c"
   },
   "outputs": [],
   "source": [
    "from torch.optim import Adam\n",
    "from torch.utils.data import TensorDataset, DataLoader, RandomSampler, SequentialSampler\n",
    "from transformers import BertForTokenClassification"
   ]
  },
  {
   "cell_type": "code",
   "execution_count": 5,
   "metadata": {
    "colab": {},
    "colab_type": "code",
    "id": "QyNtpN9Tm15O"
   },
   "outputs": [
    {
     "name": "stdout",
     "output_type": "stream",
     "text": [
      "Imported all libraries\n",
      "Loaded device: cuda\n"
     ]
    }
   ],
   "source": [
    "print('Imported all libraries')\n",
    "device = torch.device(\"cuda\" if torch.cuda.is_available() else \"cpu\")\n",
    "n_gpu = torch.cuda.device_count()\n",
    "print('Loaded device:',device)"
   ]
  },
  {
   "cell_type": "code",
   "execution_count": 6,
   "metadata": {
    "colab": {
     "base_uri": "https://localhost:8080/",
     "height": 34
    },
    "colab_type": "code",
    "executionInfo": {
     "elapsed": 1014,
     "status": "ok",
     "timestamp": 1585290678529,
     "user": {
      "displayName": "Jae Choi",
      "photoUrl": "",
      "userId": "12753612472423284421"
     },
     "user_tz": 420
    },
    "id": "aovUCJbvm15R",
    "outputId": "10e75e8d-733e-43ee-f089-86b186679768"
   },
   "outputs": [
    {
     "data": {
      "text/plain": [
       "device(type='cuda')"
      ]
     },
     "execution_count": 6,
     "metadata": {},
     "output_type": "execute_result"
    }
   ],
   "source": [
    "device"
   ]
  },
  {
   "cell_type": "code",
   "execution_count": 7,
   "metadata": {
    "colab": {
     "base_uri": "https://localhost:8080/",
     "height": 34
    },
    "colab_type": "code",
    "executionInfo": {
     "elapsed": 996,
     "status": "ok",
     "timestamp": 1585290680272,
     "user": {
      "displayName": "Jae Choi",
      "photoUrl": "",
      "userId": "12753612472423284421"
     },
     "user_tz": 420
    },
    "id": "UuwY9omJm15Y",
    "outputId": "3f275fde-a82c-4a42-938d-bbf0728206e8"
   },
   "outputs": [
    {
     "data": {
      "text/plain": [
       "'Tesla V100-SXM2-32GB'"
      ]
     },
     "execution_count": 7,
     "metadata": {},
     "output_type": "execute_result"
    }
   ],
   "source": [
    "torch.cuda.get_device_name(0) "
   ]
  },
  {
   "cell_type": "code",
   "execution_count": 8,
   "metadata": {},
   "outputs": [],
   "source": [
    "DATASET_SIZE = 53914\n",
    "MAX_LEN = 500\n",
    "SEED = 520\n",
    "bs = 1\n",
    "MAX_N_SPLITS = 32"
   ]
  },
  {
   "cell_type": "code",
   "execution_count": 9,
   "metadata": {},
   "outputs": [
    {
     "name": "stdout",
     "output_type": "stream",
     "text": [
      "Loading training data\n"
     ]
    },
    {
     "name": "stderr",
     "output_type": "stream",
     "text": [
      "I0505 14:53:50.269128 47821962567360 tokenization_utils.py:504] loading file https://s3.amazonaws.com/models.huggingface.co/bert/bert-base-uncased-vocab.txt from cache at /home/akobtan/.cache/torch/transformers/26bc1ad6c0ac742e9b52263248f6d0f00068293b33709fae12320c0e35ccfbbb.542ce4285a40d23a559526243235df47c5f75c197f04f37d1a0c124c32c9a084\n"
     ]
    }
   ],
   "source": [
    "print('Loading training data')\n",
    "train_data_processor = DataProcessor('train',size=None,tokenizer=None)\n",
    "tags_vals = train_data_processor.get_tags_vals()"
   ]
  },
  {
   "cell_type": "code",
   "execution_count": 10,
   "metadata": {},
   "outputs": [],
   "source": [
    "#Make sure no paragraph has only 'O' tags\n",
    "paragraphs_tags =  train_data_processor.paragraph_tags\n",
    "inp = None\n",
    "for i, paragraph_tags in enumerate(paragraphs_tags):\n",
    "    assert any(p == 'B-ans' for p in paragraph_tags)"
   ]
  },
  {
   "cell_type": "code",
   "execution_count": 11,
   "metadata": {},
   "outputs": [],
   "source": [
    "#tr_inputs,tr_masks,tr_tags,tr_ttids,train_tokenizer = train_data_processor.get_processed_data()\n",
    "#print('Loaded training data')"
   ]
  },
  {
   "cell_type": "code",
   "execution_count": 12,
   "metadata": {},
   "outputs": [],
   "source": [
    "#train_data_processor.maxN = 32, 32 * 424 = 13568"
   ]
  },
  {
   "cell_type": "code",
   "execution_count": 13,
   "metadata": {},
   "outputs": [
    {
     "name": "stdout",
     "output_type": "stream",
     "text": [
      "Loading dev data\n"
     ]
    }
   ],
   "source": [
    "print('Loading dev data')\n",
    "valid_data_processor = DataProcessor('dev',size=None,tokenizer=train_data_processor.tokenizer)"
   ]
  },
  {
   "cell_type": "code",
   "execution_count": 14,
   "metadata": {},
   "outputs": [],
   "source": [
    "#val_inputs,val_masks,val_tags,val_ttids,train_val_tokenizer = valid_data_processor.get_processed_data()\n",
    "#print('Loaded dev data')\n",
    "#valid_data_processor.maxN = 19"
   ]
  },
  {
   "cell_type": "code",
   "execution_count": 15,
   "metadata": {
    "colab": {},
    "colab_type": "code",
    "id": "586TVHQfm17F"
   },
   "outputs": [],
   "source": [
    "#tr_inputs = torch.tensor(tr_inputs)\n",
    "#tr_tags = torch.tensor(tr_tags)\n",
    "#tr_masks = torch.tensor(tr_masks)\n",
    "#tr_ttids = torch.tensor(tr_ttids)\n",
    "#val_inputs = torch.tensor(val_inputs)\n",
    "#val_tags = torch.tensor(val_tags)\n",
    "#val_masks = torch.tensor(val_masks)\n",
    "#val_ttids = torch.tensor(val_ttids)"
   ]
  },
  {
   "cell_type": "code",
   "execution_count": null,
   "metadata": {},
   "outputs": [],
   "source": []
  },
  {
   "cell_type": "code",
   "execution_count": null,
   "metadata": {
    "colab": {},
    "colab_type": "code",
    "id": "NikvdHGBm17Q"
   },
   "outputs": [],
   "source": []
  },
  {
   "cell_type": "code",
   "execution_count": 16,
   "metadata": {
    "colab": {},
    "colab_type": "code",
    "id": "LIPuS7ERm17S"
   },
   "outputs": [],
   "source": [
    "torch.cuda.empty_cache() "
   ]
  },
  {
   "cell_type": "code",
   "execution_count": 17,
   "metadata": {
    "colab": {},
    "colab_type": "code",
    "id": "AeuiX7QPm17W"
   },
   "outputs": [
    {
     "name": "stdout",
     "output_type": "stream",
     "text": [
      "Created train and dev data loaders\n"
     ]
    }
   ],
   "source": [
    "train_dataloader = DataLoader(train_data_processor, shuffle=True, batch_size=bs, collate_fn=train_data_processor.my_collate)\n",
    "\n",
    "valid_dataloader = DataLoader(valid_data_processor, shuffle=True, batch_size=bs, collate_fn=train_data_processor.my_collate)\n",
    "print('Created train and dev data loaders')"
   ]
  },
  {
   "cell_type": "code",
   "execution_count": 18,
   "metadata": {
    "colab": {
     "base_uri": "https://localhost:8080/",
     "height": 306
    },
    "colab_type": "code",
    "executionInfo": {
     "elapsed": 2768,
     "status": "ok",
     "timestamp": 1585290822435,
     "user": {
      "displayName": "Jae Choi",
      "photoUrl": "",
      "userId": "12753612472423284421"
     },
     "user_tz": 420
    },
    "id": "ip0X1tT_m17g",
    "outputId": "9d45acc3-5e0a-4f50-850f-312968c1b4e5"
   },
   "outputs": [
    {
     "name": "stdout",
     "output_type": "stream",
     "text": [
      "Tue May  5 14:54:04 2020       \n",
      "+-----------------------------------------------------------------------------+\n",
      "| NVIDIA-SMI 440.33.01    Driver Version: 440.33.01    CUDA Version: 10.2     |\n",
      "|-------------------------------+----------------------+----------------------+\n",
      "| GPU  Name        Persistence-M| Bus-Id        Disp.A | Volatile Uncorr. ECC |\n",
      "| Fan  Temp  Perf  Pwr:Usage/Cap|         Memory-Usage | GPU-Util  Compute M. |\n",
      "|===============================+======================+======================|\n",
      "|   0  Tesla V100-SXM2...  Off  | 00000000:AF:00.0 Off |                    0 |\n",
      "| N/A   33C    P0    42W / 300W |     11MiB / 32510MiB |      0%      Default |\n",
      "+-------------------------------+----------------------+----------------------+\n",
      "                                                                               \n",
      "+-----------------------------------------------------------------------------+\n",
      "| Processes:                                                       GPU Memory |\n",
      "|  GPU       PID   Type   Process name                             Usage      |\n",
      "|=============================================================================|\n",
      "|  No running processes found                                                 |\n",
      "+-----------------------------------------------------------------------------+\n"
     ]
    }
   ],
   "source": [
    "!nvidia-smi"
   ]
  },
  {
   "cell_type": "code",
   "execution_count": 19,
   "metadata": {
    "colab": {
     "base_uri": "https://localhost:8080/",
     "height": 34
    },
    "colab_type": "code",
    "executionInfo": {
     "elapsed": 24732,
     "status": "ok",
     "timestamp": 1585290847363,
     "user": {
      "displayName": "Jae Choi",
      "photoUrl": "",
      "userId": "12753612472423284421"
     },
     "user_tz": 420
    },
    "id": "uvUKzFJCm17n",
    "outputId": "20156062-ce30-4f4d-b5bb-9a4d5c480632"
   },
   "outputs": [],
   "source": [
    "#BertEmbed = BertModel.from_pretrained(\"bert-base-uncased\", num_labels=len(tags_vals))\n",
    "\n",
    "\n",
    "#output_dir = \"./models/\"\n",
    "# Step 2: Re-load the saved model and vocabulary\n",
    "\n",
    "# Example for a Bert model\n",
    "#model = BertForTokenClassification.from_pretrained(output_dir,num_labels=len(tags_vals))\n",
    "\n",
    "\n",
    "#print('Loaded BERT')"
   ]
  },
  {
   "cell_type": "code",
   "execution_count": 20,
   "metadata": {},
   "outputs": [
    {
     "name": "stderr",
     "output_type": "stream",
     "text": [
      "I0505 14:54:05.107192 47821962567360 configuration_utils.py:283] loading configuration file https://s3.amazonaws.com/models.huggingface.co/bert/bert-base-uncased-config.json from cache at /home/akobtan/.cache/torch/transformers/4dad0251492946e18ac39290fcfe91b89d370fee250efe9521476438fe8ca185.7156163d5fdc189c3016baca0775ffce230789d7fa2a42ef516483e4ca884517\n",
      "I0505 14:54:05.109582 47821962567360 configuration_utils.py:319] Model config BertConfig {\n",
      "  \"_num_labels\": 3,\n",
      "  \"architectures\": [\n",
      "    \"BertForMaskedLM\"\n",
      "  ],\n",
      "  \"attention_probs_dropout_prob\": 0.1,\n",
      "  \"bad_words_ids\": null,\n",
      "  \"bos_token_id\": null,\n",
      "  \"decoder_start_token_id\": null,\n",
      "  \"do_sample\": false,\n",
      "  \"early_stopping\": false,\n",
      "  \"eos_token_id\": null,\n",
      "  \"finetuning_task\": null,\n",
      "  \"hidden_act\": \"gelu\",\n",
      "  \"hidden_dropout_prob\": 0.1,\n",
      "  \"hidden_size\": 768,\n",
      "  \"id2label\": {\n",
      "    \"0\": \"LABEL_0\",\n",
      "    \"1\": \"LABEL_1\",\n",
      "    \"2\": \"LABEL_2\"\n",
      "  },\n",
      "  \"initializer_range\": 0.02,\n",
      "  \"intermediate_size\": 3072,\n",
      "  \"is_decoder\": false,\n",
      "  \"is_encoder_decoder\": false,\n",
      "  \"label2id\": {\n",
      "    \"LABEL_0\": 0,\n",
      "    \"LABEL_1\": 1,\n",
      "    \"LABEL_2\": 2\n",
      "  },\n",
      "  \"layer_norm_eps\": 1e-12,\n",
      "  \"length_penalty\": 1.0,\n",
      "  \"max_length\": 20,\n",
      "  \"max_position_embeddings\": 512,\n",
      "  \"min_length\": 0,\n",
      "  \"model_type\": \"bert\",\n",
      "  \"no_repeat_ngram_size\": 0,\n",
      "  \"num_attention_heads\": 12,\n",
      "  \"num_beams\": 1,\n",
      "  \"num_hidden_layers\": 12,\n",
      "  \"num_return_sequences\": 1,\n",
      "  \"output_attentions\": false,\n",
      "  \"output_hidden_states\": false,\n",
      "  \"output_past\": true,\n",
      "  \"pad_token_id\": 0,\n",
      "  \"prefix\": null,\n",
      "  \"pruned_heads\": {},\n",
      "  \"repetition_penalty\": 1.0,\n",
      "  \"task_specific_params\": null,\n",
      "  \"temperature\": 1.0,\n",
      "  \"top_k\": 50,\n",
      "  \"top_p\": 1.0,\n",
      "  \"torchscript\": false,\n",
      "  \"type_vocab_size\": 2,\n",
      "  \"use_bfloat16\": false,\n",
      "  \"vocab_size\": 30522\n",
      "}\n",
      "\n",
      "I0505 14:54:05.413288 47821962567360 modeling_utils.py:507] loading weights file https://s3.amazonaws.com/models.huggingface.co/bert/bert-base-uncased-pytorch_model.bin from cache at /home/akobtan/.cache/torch/transformers/aa1ef1aede4482d0dbcd4d52baad8ae300e60902e88fcb0bebdec09afd232066.36ca03ab34a1a5d5fa7bc3d03d55c4fa650fed07220e2eeebc06ce58d0e9a157\n"
     ]
    }
   ],
   "source": [
    "HIDDEN_SIZE = 768\n",
    "KERNEL_SIZE = 21\n",
    "PADDING = (KERNEL_SIZE - 1) // 2\n",
    "import torch.nn as nn\n",
    "model = BertModel.from_pretrained(\"bert-base-uncased\",num_labels=len(tags_vals))\n",
    "class myNetwork(nn.Module):\n",
    "    def __init__(self):\n",
    "        super().__init__()\n",
    "        self.l = nn.Conv1d(HIDDEN_SIZE,len(tags_vals),kernel_size = KERNEL_SIZE, padding = PADDING)\n",
    "        #perform softmax on classes dimension\n",
    "        #self.s = nn.Softmax(dim=1)\n",
    "        \n",
    "    def forward(self,last_hidden_state):\n",
    "        last_hidden_state = last_hidden_state.transpose(1,2)\n",
    "        logits = self.l(last_hidden_state)\n",
    "        #probs = self.s(logits)\n",
    "        return logits\n",
    "mynet = myNetwork()"
   ]
  },
  {
   "cell_type": "code",
   "execution_count": 21,
   "metadata": {
    "colab": {},
    "colab_type": "code",
    "id": "ehN836-Qm17u"
   },
   "outputs": [
    {
     "name": "stdout",
     "output_type": "stream",
     "text": [
      "Pushed BERT and Convolution to GPU\n"
     ]
    }
   ],
   "source": [
    "model.cuda();\n",
    "mynet.cuda();\n",
    "print('Pushed BERT and Convolution to GPU')"
   ]
  },
  {
   "cell_type": "code",
   "execution_count": null,
   "metadata": {
    "colab": {},
    "colab_type": "code",
    "id": "kKtdGN6Cm17x",
    "outputId": "151204cb-68bb-4ed6-f5d7-ccd7f267e47b"
   },
   "outputs": [
    {
     "name": "stdout",
     "output_type": "stream",
     "text": [
      "Tue May  5 14:54:10 2020       \n",
      "+-----------------------------------------------------------------------------+\n",
      "| NVIDIA-SMI 440.33.01    Driver Version: 440.33.01    CUDA Version: 10.2     |\n",
      "|-------------------------------+----------------------+----------------------+\n",
      "| GPU  Name        Persistence-M| Bus-Id        Disp.A | Volatile Uncorr. ECC |\n",
      "| Fan  Temp  Perf  Pwr:Usage/Cap|         Memory-Usage | GPU-Util  Compute M. |\n",
      "|===============================+======================+======================|\n",
      "|   0  Tesla V100-SXM2...  Off  | 00000000:AF:00.0 Off |                    0 |\n",
      "| N/A   34C    P0    56W / 300W |   1472MiB / 32510MiB |      7%      Default |\n",
      "+-------------------------------+----------------------+----------------------+\n",
      "                                                                               \n",
      "+-----------------------------------------------------------------------------+\n",
      "| Processes:                                                       GPU Memory |\n",
      "|  GPU       PID   Type   Process name                             Usage      |\n",
      "|=============================================================================|\n",
      "|    0    239981      C   /packages/7x/anaconda3/5.3.0/bin/python     1461MiB |\n",
      "+-----------------------------------------------------------------------------+\n"
     ]
    }
   ],
   "source": [
    "!nvidia-smi"
   ]
  },
  {
   "cell_type": "code",
   "execution_count": null,
   "metadata": {
    "colab": {},
    "colab_type": "code",
    "id": "3u9x1RqFm172"
   },
   "outputs": [],
   "source": []
  },
  {
   "cell_type": "code",
   "execution_count": null,
   "metadata": {
    "colab": {},
    "colab_type": "code",
    "id": "nu4SG_6ym18G"
   },
   "outputs": [],
   "source": [
    "FULL_FINETUNING = True\n",
    "if FULL_FINETUNING:\n",
    "    param_optimizer = list(model.named_parameters()) + list(mynet.named_parameters())\n",
    "    no_decay = ['bias', 'gamma', 'beta']\n",
    "    optimizer_grouped_parameters = [\n",
    "        {'params': [p for n, p in param_optimizer if not any(nd in n for nd in no_decay)],\n",
    "         'weight_decay_rate': 0.01},\n",
    "        {'params': [p for n, p in param_optimizer if any(nd in n for nd in no_decay)],\n",
    "         'weight_decay_rate': 0.0}\n",
    "    ]\n",
    "else:\n",
    "    param_optimizer = list(model.classifier.named_parameters())\n",
    "    optimizer_grouped_parameters = [{\"params\": [p for n, p in param_optimizer]}]\n",
    "optimizer = Adam(optimizer_grouped_parameters, lr=3e-5, eps=1e-8)"
   ]
  },
  {
   "cell_type": "code",
   "execution_count": null,
   "metadata": {
    "colab": {},
    "colab_type": "code",
    "id": "TllKViELm18I"
   },
   "outputs": [],
   "source": [
    "from seqeval.metrics import f1_score\n",
    "from seqeval.metrics import classification_report\n",
    "from torch.nn import CrossEntropyLoss\n",
    "\n",
    "def flat_accuracy(preds, labels):\n",
    "    pred_flat = np.argmax(preds, axis=2).flatten()\n",
    "    labels_flat = labels.flatten()\n",
    "    return np.sum(pred_flat == labels_flat) / len(labels_flat)"
   ]
  },
  {
   "cell_type": "code",
   "execution_count": null,
   "metadata": {
    "colab": {},
    "colab_type": "code",
    "id": "aG3KTg9Am18P",
    "outputId": "b3e59b71-830f-4265-8fd8-abb711858c22"
   },
   "outputs": [
    {
     "name": "stderr",
     "output_type": "stream",
     "text": [
      "  0%|          | 0/4 [00:00<?, ?it/s]"
     ]
    },
    {
     "name": "stdout",
     "output_type": "stream",
     "text": [
      "Initiating training\n"
     ]
    }
   ],
   "source": [
    "from transformers import get_linear_schedule_with_warmup\n",
    "print('Initiating training')\n",
    "closs = CrossEntropyLoss(ignore_index=-100)\n",
    "epochs = 4\n",
    "max_grad_norm = 1.0\n",
    "F_scores = np.zeros(epochs,float)\n",
    "patience = 6\n",
    "accumulation_steps = 16\n",
    "# Total number of training steps is number of batches * number of epochs.\n",
    "total_steps = (len(train_dataloader) / accumulation_steps) * epochs\n",
    "\n",
    "# Create the learning rate scheduler.\n",
    "scheduler = get_linear_schedule_with_warmup(\n",
    "    optimizer,\n",
    "    num_warmup_steps=0,\n",
    "    num_training_steps=total_steps\n",
    ")\n",
    "\n",
    "for e in trange(epochs):\n",
    "    # TRAIN loop\n",
    "    model.train()\n",
    "    tr_loss = 0\n",
    "    nb_tr_examples, nb_tr_steps = 0, 0\n",
    "    predictions , true_labels = [], []\n",
    "    for step, batch in enumerate(train_dataloader):\n",
    "        # add batch to gpu\n",
    "        for split in range(len(batch[0])):\n",
    "            b_input_ids = batch[0].pop(0).to(device)\n",
    "            b_input_mask = batch[1].pop(0).to(device)\n",
    "            b_labels = batch[2].pop(0).to(device)\n",
    "            b_ttids = batch[3].pop(0).to(device)\n",
    "            # forward pass\n",
    "            # loss = model(b_input_ids, token_type_ids=b_ttids, attention_mask=b_input_mask, labels=b_labels)\n",
    "            if split == 0:\n",
    "                last_hidden_state = model(b_input_ids, token_type_ids=b_ttids, attention_mask=b_input_mask)[0]\n",
    "            else:\n",
    "                last_hidden_state = torch.cat([last_hidden_state,model(b_input_ids, token_type_ids=b_ttids, attention_mask=b_input_mask)[0]], dim = 1)\n",
    "                b_labels = torch.cat([prev_labels,b_labels],dim=1)\n",
    "                b_input_ids = torch.cat([prev_ids, b_input_ids], dim = 1)\n",
    "            del b_input_mask, b_ttids\n",
    "            torch.cuda.empty_cache()\n",
    "            prev_labels = copy.copy(b_labels)\n",
    "            prev_ids = b_input_ids\n",
    "        del prev_labels, prev_ids\n",
    "        torch.cuda.empty_cache()\n",
    "        b_logits = mynet(last_hidden_state)\n",
    "        del last_hidden_state\n",
    "        b_logits = b_logits.transpose(1,2)\n",
    "        logits = b_logits.view(-1,len(tags_vals))\n",
    "        labels = b_labels.view(-1)\n",
    "        if len(logits) != len(labels):\n",
    "            print(b_input_ids)\n",
    "            print(train_data_processor.tokenizer.convert_ids_to_tokens(b_input_ids[0]))\n",
    "            print(b_input_ids.size())\n",
    "            print('Logits:')\n",
    "            print(logits)\n",
    "            print(logits.size())\n",
    "            print('Labels:')\n",
    "            print(labels)\n",
    "            print(labels.size())\n",
    "        loss = closs(logits, labels)\n",
    "        # backward pass\n",
    "        del logits, labels\n",
    "        torch.cuda.empty_cache()\n",
    "        b_logits = b_logits.detach().cpu().numpy()\n",
    "        label_ids = b_labels.to('cpu').numpy()\n",
    "        predictions.extend([list(p) for p in np.argmax(b_logits, axis=2)])\n",
    "        true_labels.append(label_ids)\n",
    "        del b_logits, label_ids, b_labels\n",
    "        torch.cuda.empty_cache()\n",
    "        loss.backward()\n",
    "        # track train loss\n",
    "        tr_loss += loss.item()\n",
    "        nb_tr_examples += 1\n",
    "        nb_tr_steps += 1\n",
    "        if (step+1)%accumulation_steps == 0:\n",
    "            # gradient clipping\n",
    "            torch.nn.utils.clip_grad_norm_(parameters=model.parameters(), max_norm=max_grad_norm)\n",
    "            # update parameters\n",
    "            optimizer.step()\n",
    "            optimizer.zero_grad()\n",
    "            # Update the learning rate.\n",
    "            scheduler.step()\n",
    "    # print train loss per epoch\n",
    "    print(\"Train loss: {}\".format(tr_loss/nb_tr_steps))\n",
    "    pred_tags = [tags_vals[p_i] for p in predictions for p_i in p]\n",
    "    valid_tags = [tags_vals[l_ii] if l_ii!=-100 else '[PAD]' for l in true_labels for l_i in l for l_ii in l_i]\n",
    "    c_f1 = f1_score(valid_tags, pred_tags)\n",
    "    rep = classification_report(valid_tags, pred_tags)\n",
    "    print('Training classification report:',rep)\n",
    "    print(\"Training F1-Score: {}\".format(c_f1))\n",
    "    # VALIDATION on validation set\n",
    "    model.eval()\n",
    "    eval_loss, eval_accuracy = 0, 0\n",
    "    nb_eval_steps, nb_eval_examples = 0, 0\n",
    "    predictions , true_labels = [], []\n",
    "    for batch in valid_dataloader:\n",
    "        with torch.no_grad():\n",
    "            # add batch to gpu\n",
    "            for split in range(len(batch[0])):\n",
    "                b_input_ids = batch[0].pop(0).to(device)\n",
    "                b_input_mask = batch[1].pop(0).to(device)\n",
    "                b_labels = batch[2].pop(0).to(device)\n",
    "                b_ttids = batch[3].pop(0).to(device)\n",
    "               # forward pass\n",
    "                # loss = model(b_input_ids, token_type_ids=b_ttids, attention_mask=b_input_mask, labels=b_labels)\n",
    "                if split == 0:\n",
    "                    last_hidden_state = model(b_input_ids, token_type_ids=b_ttids, attention_mask=b_input_mask)[0]\n",
    "                else:\n",
    "                    last_hidden_state = torch.cat([last_hidden_state,model(b_input_ids, token_type_ids=b_ttids, attention_mask=b_input_mask)[0]], dim = 1)\n",
    "                    b_labels = torch.cat([prev_labels,b_labels],dim=1)\n",
    "                del b_input_ids, b_input_mask, b_ttids\n",
    "                torch.cuda.empty_cache()\n",
    "                prev_labels = copy.copy(b_labels)\n",
    "            del prev_labels\n",
    "            torch.cuda.empty_cache()\n",
    "            b_logits = mynet(last_hidden_state)\n",
    "            b_logits = b_logits.transpose(1,2)\n",
    "            logits = b_logits.view(-1,len(tags_vals))\n",
    "            labels = b_labels.view(-1)\n",
    "            tmp_eval_loss = closs(logits, labels)\n",
    "            del logits, labels\n",
    "            torch.cuda.empty_cache()\n",
    "        b_logits = b_logits.detach().cpu().numpy()\n",
    "        label_ids = b_labels.to('cpu').numpy()\n",
    "        predictions.extend([list(p) for p in np.argmax(b_logits, axis=2)])\n",
    "        true_labels.append(label_ids)\n",
    "        tmp_eval_accuracy = flat_accuracy(b_logits, label_ids)\n",
    "        del b_logits, label_ids, b_labels\n",
    "        torch.cuda.empty_cache()\n",
    "        eval_loss += tmp_eval_loss.mean().item()\n",
    "        eval_accuracy += tmp_eval_accuracy\n",
    "        nb_eval_examples += 1\n",
    "        nb_eval_steps += 1\n",
    "    eval_loss = eval_loss/nb_eval_steps\n",
    "    print(\"Validation loss: {}\".format(eval_loss))\n",
    "    print(\"Validation Accuracy: {}\".format(eval_accuracy/nb_eval_steps))\n",
    "    pred_tags = [tags_vals[p_i] for p in predictions for p_i in p]\n",
    "    valid_tags = [tags_vals[l_ii] if l_ii!=-100 else '[PAD]' for l in true_labels for l_i in l for l_ii in l_i]\n",
    "    c_f1 = f1_score(valid_tags, pred_tags)\n",
    "    rep = classification_report(valid_tags, pred_tags)\n",
    "    print(rep)\n",
    "    print(\"F1-Score: {}\".format(c_f1))\n",
    "    #k epochs no improvement\n",
    "    F_scores[e] = c_f1\n",
    "    prev_Fs = np.arange(e-patience,e)\n",
    "    prev_indices = prev_Fs[prev_Fs>=0]\n",
    "    if all(F_scores[e] - F_scores[prev_indices] < 0 ) and e > patience:\n",
    "        print('Done training')\n",
    "        break\n",
    "    else:\n",
    "        print('Still training')\n",
    "        #save checkpoint\n",
    "        #Nobody!"
   ]
  },
  {
   "cell_type": "code",
   "execution_count": null,
   "metadata": {},
   "outputs": [],
   "source": []
  },
  {
   "cell_type": "code",
   "execution_count": null,
   "metadata": {},
   "outputs": [],
   "source": []
  },
  {
   "cell_type": "code",
   "execution_count": null,
   "metadata": {},
   "outputs": [],
   "source": []
  },
  {
   "cell_type": "code",
   "execution_count": null,
   "metadata": {},
   "outputs": [],
   "source": []
  },
  {
   "cell_type": "code",
   "execution_count": 27,
   "metadata": {
    "colab": {},
    "colab_type": "code",
    "id": "uSZSRGJDm18Y"
   },
   "outputs": [
    {
     "name": "stdout",
     "output_type": "stream",
     "text": [
      "Initiating validation on dev set\n",
      "Validation loss: 0.04730244323668898\n",
      "Validation Accuracy: 0.9752105384586147\n",
      "           precision    recall  f1-score   support\n",
      "\n",
      "    [PAD]       0.00      0.00      0.00     67403\n",
      "      ans       0.47      0.39      0.43     56551\n",
      "\n",
      "micro avg       0.47      0.18      0.26    123954\n",
      "macro avg       0.21      0.18      0.19    123954\n",
      "\n",
      "F1-Score: 0.2585850348061631\n"
     ]
    }
   ],
   "source": [
    "print('Initiating validation on dev set')\n",
    "# VALIDATION on validation set\n",
    "model.eval()\n",
    "mynet.eval()\n",
    "eval_loss, eval_accuracy = 0, 0\n",
    "nb_eval_steps, nb_eval_examples = 0, 0\n",
    "predictions , true_labels = [], []\n",
    "for batch in valid_dataloader:\n",
    "    with torch.no_grad():\n",
    "        # add batch to gpu\n",
    "        for split in range(len(batch[0])):\n",
    "            b_input_ids = batch[0].pop(0).to(device)\n",
    "            b_input_mask = batch[1].pop(0).to(device)\n",
    "            b_labels = batch[2].pop(0).to(device)\n",
    "            b_ttids = batch[3].pop(0).to(device)\n",
    "           # forward pass\n",
    "            # loss = model(b_input_ids, token_type_ids=b_ttids, attention_mask=b_input_mask, labels=b_labels)\n",
    "            if split == 0:\n",
    "                last_hidden_state = model(b_input_ids, token_type_ids=b_ttids, attention_mask=b_input_mask)[0]\n",
    "            else:\n",
    "                last_hidden_state = torch.cat([last_hidden_state,model(b_input_ids, token_type_ids=b_ttids, attention_mask=b_input_mask)[0]], dim = 1)\n",
    "                b_labels = torch.cat([prev_labels,b_labels],dim=1)\n",
    "            del b_input_ids, b_input_mask, b_ttids\n",
    "            torch.cuda.empty_cache()\n",
    "            prev_labels = copy.copy(b_labels)\n",
    "        del prev_labels\n",
    "        torch.cuda.empty_cache()\n",
    "        b_logits = mynet(last_hidden_state)\n",
    "        b_logits = b_logits.transpose(1,2)\n",
    "        logits = b_logits.view(-1,len(tags_vals))\n",
    "        labels = b_labels.view(-1)\n",
    "        tmp_eval_loss = closs(logits, labels)\n",
    "        del logits, labels\n",
    "        torch.cuda.empty_cache()\n",
    "    b_logits = b_logits.detach().cpu().numpy()\n",
    "    label_ids = b_labels.to('cpu').numpy()\n",
    "    predictions.extend([list(p) for p in np.argmax(b_logits, axis=2)])\n",
    "    true_labels.append(label_ids)\n",
    "    tmp_eval_accuracy = flat_accuracy(b_logits, label_ids)\n",
    "    del b_logits, label_ids, b_labels\n",
    "    torch.cuda.empty_cache()\n",
    "    eval_loss += tmp_eval_loss.mean().item()\n",
    "    eval_accuracy += tmp_eval_accuracy\n",
    "    nb_eval_examples += 1\n",
    "    nb_eval_steps += 1\n",
    "eval_loss = eval_loss/nb_eval_steps\n",
    "print(\"Validation loss: {}\".format(eval_loss))\n",
    "print(\"Validation Accuracy: {}\".format(eval_accuracy/nb_eval_steps))\n",
    "pred_tags = [tags_vals[p_i] for p in predictions for p_i in p]\n",
    "valid_tags = [tags_vals[l_ii] if l_ii!=-100 else '[PAD]' for l in true_labels for l_i in l for l_ii in l_i]\n",
    "c_f1 = f1_score(valid_tags, pred_tags)\n",
    "rep = classification_report(valid_tags, pred_tags)\n",
    "print(rep)\n",
    "print(\"F1-Score: {}\".format(c_f1))\n"
   ]
  },
  {
   "cell_type": "code",
   "execution_count": 26,
   "metadata": {
    "colab": {},
    "colab_type": "code",
    "id": "8SxOsodim18g"
   },
   "outputs": [
    {
     "name": "stderr",
     "output_type": "stream",
     "text": [
      "I0507 10:34:30.016492 47821962567360 modeling.py:230] Better speed can be achieved with apex installed from https://www.github.com/nvidia/apex .\n"
     ]
    },
    {
     "name": "stdout",
     "output_type": "stream",
     "text": [
      "Saving model\n"
     ]
    },
    {
     "data": {
      "text/plain": [
       "('./newmodels/vocab.txt',)"
      ]
     },
     "execution_count": 26,
     "metadata": {},
     "output_type": "execute_result"
    }
   ],
   "source": [
    "print('Saving model')\n",
    "from pytorch_pretrained_bert import WEIGHTS_NAME, CONFIG_NAME\n",
    "\n",
    "output_dir = \"./newmodels/\"\n",
    "\n",
    "# Step 1: Save a model, configuration and vocabulary that you have fine-tuned\n",
    "\n",
    "# If we have a distributed model, save only the encapsulated model\n",
    "# (it was wrapped in PyTorch DistributedDataParallel or DataParallel)\n",
    "model_to_save = model.module if hasattr(model, 'module') else model\n",
    "\n",
    "# If we save using the predefined names, we can load using `from_pretrained`\n",
    "output_model_file = os.path.join(output_dir, WEIGHTS_NAME)\n",
    "output_config_file = os.path.join(output_dir, CONFIG_NAME)\n",
    "\n",
    "torch.save(model_to_save.state_dict(), output_model_file)\n",
    "model_to_save.config.to_json_file(output_config_file)\n",
    "train_data_processor.tokenizer.save_vocabulary(output_dir)"
   ]
  },
  {
   "cell_type": "code",
   "execution_count": null,
   "metadata": {},
   "outputs": [],
   "source": []
  },
  {
   "cell_type": "code",
   "execution_count": 28,
   "metadata": {},
   "outputs": [
    {
     "name": "stdout",
     "output_type": "stream",
     "text": [
      "Loading test data\n"
     ]
    }
   ],
   "source": [
    "print('Loading test data')\n",
    "test_data_processor = DataProcessor('test',size=None,tokenizer=train_data_processor.tokenizer)"
   ]
  },
  {
   "cell_type": "code",
   "execution_count": 29,
   "metadata": {},
   "outputs": [],
   "source": [
    "torch.cuda.empty_cache()"
   ]
  },
  {
   "cell_type": "code",
   "execution_count": 33,
   "metadata": {},
   "outputs": [
    {
     "name": "stdout",
     "output_type": "stream",
     "text": [
      "Created train and dev data loaders\n"
     ]
    }
   ],
   "source": [
    "test_dataloader = DataLoader(test_data_processor, shuffle=True, batch_size=bs, collate_fn=test_data_processor.my_collate)\n",
    "print('Created train and dev data loaders')"
   ]
  },
  {
   "cell_type": "code",
   "execution_count": 34,
   "metadata": {},
   "outputs": [
    {
     "name": "stdout",
     "output_type": "stream",
     "text": [
      "Thu May  7 11:39:40 2020       \n",
      "+-----------------------------------------------------------------------------+\n",
      "| NVIDIA-SMI 440.33.01    Driver Version: 440.33.01    CUDA Version: 10.2     |\n",
      "|-------------------------------+----------------------+----------------------+\n",
      "| GPU  Name        Persistence-M| Bus-Id        Disp.A | Volatile Uncorr. ECC |\n",
      "| Fan  Temp  Perf  Pwr:Usage/Cap|         Memory-Usage | GPU-Util  Compute M. |\n",
      "|===============================+======================+======================|\n",
      "|   0  Tesla V100-SXM2...  Off  | 00000000:AF:00.0 Off |                    0 |\n",
      "| N/A   37C    P0    56W / 300W |   2896MiB / 32510MiB |      0%      Default |\n",
      "+-------------------------------+----------------------+----------------------+\n",
      "                                                                               \n",
      "+-----------------------------------------------------------------------------+\n",
      "| Processes:                                                       GPU Memory |\n",
      "|  GPU       PID   Type   Process name                             Usage      |\n",
      "|=============================================================================|\n",
      "|    0    239981      C   /packages/7x/anaconda3/5.3.0/bin/python     2885MiB |\n",
      "+-----------------------------------------------------------------------------+\n"
     ]
    }
   ],
   "source": [
    "!nvidia-smi"
   ]
  },
  {
   "cell_type": "code",
   "execution_count": 35,
   "metadata": {},
   "outputs": [
    {
     "name": "stdout",
     "output_type": "stream",
     "text": [
      "Initiating testing on test set\n",
      "Test loss: 0.048442550599023707\n",
      "Test Accuracy: 0.9747902122092955\n",
      "           precision    recall  f1-score   support\n",
      "\n",
      "    [PAD]       0.00      0.00      0.00     69475\n",
      "      ans       0.47      0.41      0.44     60385\n",
      "\n",
      "micro avg       0.47      0.19      0.27    129860\n",
      "macro avg       0.22      0.19      0.20    129860\n",
      "\n",
      "F1-Score: 0.2715687887262159\n"
     ]
    }
   ],
   "source": [
    "print('Initiating testing on test set')\n",
    "# Testing on test set\n",
    "model.eval()\n",
    "mynet.eval()\n",
    "eval_loss, eval_accuracy = 0, 0\n",
    "nb_eval_steps, nb_eval_examples = 0, 0\n",
    "predictions , true_labels = [], []\n",
    "for batch in test_dataloader:\n",
    "    with torch.no_grad():\n",
    "        # add batch to gpu\n",
    "        for split in range(len(batch[0])):\n",
    "            b_input_ids = batch[0].pop(0).to(device)\n",
    "            b_input_mask = batch[1].pop(0).to(device)\n",
    "            b_labels = batch[2].pop(0).to(device)\n",
    "            b_ttids = batch[3].pop(0).to(device)\n",
    "           # forward pass\n",
    "            # loss = model(b_input_ids, token_type_ids=b_ttids, attention_mask=b_input_mask, labels=b_labels)\n",
    "            if split == 0:\n",
    "                last_hidden_state = model(b_input_ids, token_type_ids=b_ttids, attention_mask=b_input_mask)[0]\n",
    "            else:\n",
    "                last_hidden_state = torch.cat([last_hidden_state,model(b_input_ids, token_type_ids=b_ttids, attention_mask=b_input_mask)[0]], dim = 1)\n",
    "                b_labels = torch.cat([prev_labels,b_labels],dim=1)\n",
    "            del b_input_ids, b_input_mask, b_ttids\n",
    "            torch.cuda.empty_cache()\n",
    "            prev_labels = copy.copy(b_labels)\n",
    "        del prev_labels\n",
    "        torch.cuda.empty_cache()\n",
    "        b_logits = mynet(last_hidden_state)\n",
    "        b_logits = b_logits.transpose(1,2)\n",
    "        logits = b_logits.view(-1,len(tags_vals))\n",
    "        labels = b_labels.view(-1)\n",
    "        tmp_eval_loss = closs(logits, labels)\n",
    "        del logits, labels\n",
    "        torch.cuda.empty_cache()\n",
    "    b_logits = b_logits.detach().cpu().numpy()\n",
    "    label_ids = b_labels.to('cpu').numpy()\n",
    "    predictions.extend([list(p) for p in np.argmax(b_logits, axis=2)])\n",
    "    true_labels.append(label_ids)\n",
    "    tmp_eval_accuracy = flat_accuracy(b_logits, label_ids)\n",
    "    del b_logits, label_ids, b_labels\n",
    "    torch.cuda.empty_cache()\n",
    "    eval_loss += tmp_eval_loss.mean().item()\n",
    "    eval_accuracy += tmp_eval_accuracy\n",
    "    nb_eval_examples += 1\n",
    "    nb_eval_steps += 1\n",
    "eval_loss = eval_loss/nb_eval_steps\n",
    "print(\"Test loss: {}\".format(eval_loss))\n",
    "print(\"Test Accuracy: {}\".format(eval_accuracy/nb_eval_steps))\n",
    "pred_tags = [tags_vals[p_i] for p in predictions for p_i in p]\n",
    "valid_tags = [tags_vals[l_ii] if l_ii!=-100 else '[PAD]' for l in true_labels for l_i in l for l_ii in l_i]\n",
    "c_f1 = f1_score(valid_tags, pred_tags)\n",
    "rep = classification_report(valid_tags, pred_tags)\n",
    "print(rep)\n",
    "print(\"F1-Score: {}\".format(c_f1))\n"
   ]
  },
  {
   "cell_type": "code",
   "execution_count": null,
   "metadata": {},
   "outputs": [],
   "source": []
  }
 ],
 "metadata": {
  "accelerator": "GPU",
  "colab": {
   "collapsed_sections": [],
   "name": "BERT_NER_agave.ipynb",
   "provenance": []
  },
  "kernelspec": {
   "display_name": "Py3-basic",
   "language": "python",
   "name": "python3"
  },
  "language_info": {
   "codemirror_mode": {
    "name": "ipython",
    "version": 3
   },
   "file_extension": ".py",
   "mimetype": "text/x-python",
   "name": "python",
   "nbconvert_exporter": "python",
   "pygments_lexer": "ipython3",
   "version": "3.7.2"
  }
 },
 "nbformat": 4,
 "nbformat_minor": 2
}
